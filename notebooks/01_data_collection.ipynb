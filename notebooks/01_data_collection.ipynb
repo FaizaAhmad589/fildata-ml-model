{
  "nbformat": 4,
  "nbformat_minor": 0,
  "metadata": {
    "colab": {
      "provenance": []
    },
    "kernelspec": {
      "name": "python3",
      "display_name": "Python 3"
    },
    "language_info": {
      "name": "python"
    }
  },
  "cells": [
    {
      "cell_type": "code",
      "source": [
        "!pip install alpha_vantage pandas"
      ],
      "metadata": {
        "id": "tcXf96jMVkfI"
      },
      "execution_count": null,
      "outputs": []
    },
    {
      "cell_type": "code",
      "execution_count": 2,
      "metadata": {
        "id": "5tdFFsllHDCS"
      },
      "outputs": [],
      "source": [
        "import time\n",
        "import pandas as pd\n",
        "from alpha_vantage.fundamentaldata import FundamentalData\n",
        "API_KEY = \"0E5KVRCM7U79MIT0\"\n",
        "fd = FundamentalData(key=API_KEY, output_format='pandas')\n",
        "symbols = [\"MSFT\", \"AMZN\", \"GOOGL\", \"GOOG\", \"TSLA\", \"BRK-B\", \"NVDA\", \"META\", \"UNH\", \"AAPL\"]\n",
        "for symbol in symbols:\n",
        "  data, _ =fd.get_income_statement_quarterly(symbol)\n",
        "  data.to_csv(f\"{symbol}.csv\")\n",
        "  time.sleep(15)"
      ]
    }
  ]
}